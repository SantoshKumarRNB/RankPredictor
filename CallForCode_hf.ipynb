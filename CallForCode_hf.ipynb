{
    "cells": [
        {
            "cell_type": "code",
            "execution_count": 4,
            "metadata": {},
            "outputs": [],
            "source": "import numpy as np\nimport matplotlib.pyplot as plt\nimport pandas as pd"
        },
        {
            "cell_type": "code",
            "execution_count": 13,
            "metadata": {},
            "outputs": [
                {
                    "data": {
                        "text/html": "<div>\n<style scoped>\n    .dataframe tbody tr th:only-of-type {\n        vertical-align: middle;\n    }\n\n    .dataframe tbody tr th {\n        vertical-align: top;\n    }\n\n    .dataframe thead th {\n        text-align: right;\n    }\n</style>\n<table border=\"1\" class=\"dataframe\">\n  <thead>\n    <tr style=\"text-align: right;\">\n      <th></th>\n      <th>ROLLNO</th>\n      <th>T1SUB1</th>\n      <th>T1SUB2</th>\n      <th>T1SUB3</th>\n      <th>T1SUB4</th>\n      <th>T1SUB5</th>\n      <th>T2SUB1</th>\n      <th>T2SUB2</th>\n      <th>T2SUB3</th>\n      <th>T2SUB4</th>\n      <th>T2SUB5</th>\n      <th>T3SUB1</th>\n      <th>T3SUB2</th>\n      <th>T3SUB3</th>\n      <th>T3SUB4</th>\n      <th>T3SUB5</th>\n    </tr>\n  </thead>\n  <tbody>\n    <tr>\n      <th>0</th>\n      <td>111</td>\n      <td>79</td>\n      <td>60</td>\n      <td>77</td>\n      <td>80</td>\n      <td>90</td>\n      <td>71</td>\n      <td>56</td>\n      <td>64</td>\n      <td>78</td>\n      <td>51</td>\n      <td>77</td>\n      <td>89</td>\n      <td>45</td>\n      <td>87</td>\n      <td>89</td>\n    </tr>\n    <tr>\n      <th>1</th>\n      <td>112</td>\n      <td>66</td>\n      <td>56</td>\n      <td>45</td>\n      <td>56</td>\n      <td>79</td>\n      <td>77</td>\n      <td>87</td>\n      <td>45</td>\n      <td>66</td>\n      <td>56</td>\n      <td>90</td>\n      <td>88</td>\n      <td>76</td>\n      <td>88</td>\n      <td>90</td>\n    </tr>\n    <tr>\n      <th>2</th>\n      <td>113</td>\n      <td>66</td>\n      <td>61</td>\n      <td>67</td>\n      <td>54</td>\n      <td>89</td>\n      <td>65</td>\n      <td>43</td>\n      <td>65</td>\n      <td>76</td>\n      <td>87</td>\n      <td>66</td>\n      <td>78</td>\n      <td>78</td>\n      <td>89</td>\n      <td>90</td>\n    </tr>\n    <tr>\n      <th>3</th>\n      <td>114</td>\n      <td>90</td>\n      <td>34</td>\n      <td>67</td>\n      <td>72</td>\n      <td>100</td>\n      <td>100</td>\n      <td>83</td>\n      <td>89</td>\n      <td>79</td>\n      <td>62</td>\n      <td>90</td>\n      <td>78</td>\n      <td>60</td>\n      <td>78</td>\n      <td>90</td>\n    </tr>\n    <tr>\n      <th>4</th>\n      <td>115</td>\n      <td>87</td>\n      <td>44</td>\n      <td>88</td>\n      <td>80</td>\n      <td>50</td>\n      <td>89</td>\n      <td>89</td>\n      <td>36</td>\n      <td>68</td>\n      <td>83</td>\n      <td>80</td>\n      <td>39</td>\n      <td>81</td>\n      <td>100</td>\n      <td>78</td>\n    </tr>\n  </tbody>\n</table>\n</div>",
                        "text/plain": "   ROLLNO  T1SUB1  T1SUB2  T1SUB3  T1SUB4  T1SUB5  T2SUB1  T2SUB2  T2SUB3  \\\n0     111      79      60      77      80      90      71      56      64   \n1     112      66      56      45      56      79      77      87      45   \n2     113      66      61      67      54      89      65      43      65   \n3     114      90      34      67      72     100     100      83      89   \n4     115      87      44      88      80      50      89      89      36   \n\n   T2SUB4  T2SUB5  T3SUB1  T3SUB2  T3SUB3  T3SUB4  T3SUB5  \n0      78      51      77      89      45      87      89  \n1      66      56      90      88      76      88      90  \n2      76      87      66      78      78      89      90  \n3      79      62      90      78      60      78      90  \n4      68      83      80      39      81     100      78  "
                    },
                    "execution_count": 13,
                    "metadata": {},
                    "output_type": "execute_result"
                }
            ],
            "source": "# The code was removed by Watson Studio for sharing."
        },
        {
            "cell_type": "code",
            "execution_count": 14,
            "metadata": {},
            "outputs": [
                {
                    "name": "stdout",
                    "output_type": "stream",
                    "text": "    ROLLNO  T1SUB1  T1SUB2  T1SUB3  T1SUB4  T1SUB5  T2SUB1  T2SUB2  T2SUB3  \\\n0      111      79      60      77      80      90      71      56      64   \n1      112      66      56      45      56      79      77      87      45   \n2      113      66      61      67      54      89      65      43      65   \n3      114      90      34      67      72     100     100      83      89   \n4      115      87      44      88      80      50      89      89      36   \n5      116      78      47      48      99      69     100      76      89   \n6      117      55      82      54      83      74      40      74      78   \n7      118      56      93      65     100      84      74      89      49   \n8      119     100      74      57      89      94      90      77      50   \n9      120      98      75     100      35      94      40      90      38   \n10     121      89      90      89      87      88      78      93      80   \n11     122      78      64      87      83      70      93      94      78   \n12     123      90      63      50      92      88      92      95      66   \n13     124      92      89      71      59      93      94     100      78   \n14     125      78      77      93      54      92      89      98      98   \n15     126      84      67      84      60      89      85      89      99   \n16     127      95      55      73      70      73      90      81     100   \n17     128      74      53      55     100      84      84      70      54   \n18     129     100      88      83      82      95      78      40      77   \n19     130      66      89      60      90      95      90      50      89   \n\n    T2SUB4  T2SUB5  T3SUB1  T3SUB2  T3SUB3  T3SUB4  T3SUB5  T1Total  T2Total  \\\n0       78      51      77      89      45      87      89      386      320   \n1       66      56      90      88      76      88      90      302      331   \n2       76      87      66      78      78      89      90      337      336   \n3       79      62      90      78      60      78      90      363      413   \n4       68      83      80      39      81     100      78      349      365   \n5       80      93      87      49      89      90      89      341      438   \n6       38      82      76      40      67     100      99      348      312   \n7       40      74     100      70      66      36      78      398      326   \n8       78      90      67      84      65      67      79      414      385   \n9       84     100      56      56      56      99      67      402      352   \n10      67      87      65      79      58      88      89      443      405   \n11      80      65      45      87      59      90      90      382      410   \n12      70      45      56      67      68      89      78      383      368   \n13      66      48      57      66      76      88      68      404      386   \n14      49      65      58      45      68      50      58      394      399   \n15      38      64      89     100      78      60      79      384      375   \n16      56      63      90      56      90      66      89      366      390   \n17     100      73      93      89      89      64      90      366      381   \n18      61      74      94      73      80      78      68      448      330   \n19      71      75      78      73      89      76      78      400      375   \n\n    T3Total  \n0       387  \n1       432  \n2       401  \n3       396  \n4       378  \n5       404  \n6       382  \n7       350  \n8       362  \n9       334  \n10      379  \n11      371  \n12      358  \n13      355  \n14      279  \n15      406  \n16      391  \n17      425  \n18      393  \n19      394  \n"
                }
            ],
            "source": "# The code was removed by Watson Studio for sharing."
        },
        {
            "cell_type": "code",
            "execution_count": 15,
            "metadata": {},
            "outputs": [
                {
                    "name": "stdout",
                    "output_type": "stream",
                    "text": "    ROLLNO  T1SUB1  T1SUB2  T1SUB3  T1SUB4  T1SUB5  T2SUB1  T2SUB2  T2SUB3  \\\n6      117      55      82      54      83      74      40      74      78   \n1      112      66      56      45      56      79      77      87      45   \n14     125      78      77      93      54      92      89      98      98   \n2      113      66      61      67      54      89      65      43      65   \n7      118      56      93      65     100      84      74      89      49   \n9      120      98      75     100      35      94      40      90      38   \n4      115      87      44      88      80      50      89      89      36   \n0      111      79      60      77      80      90      71      56      64   \n12     123      90      63      50      92      88      92      95      66   \n13     124      92      89      71      59      93      94     100      78   \n16     127      95      55      73      70      73      90      81     100   \n8      119     100      74      57      89      94      90      77      50   \n11     122      78      64      87      83      70      93      94      78   \n15     126      84      67      84      60      89      85      89      99   \n19     130      66      89      60      90      95      90      50      89   \n18     129     100      88      83      82      95      78      40      77   \n3      114      90      34      67      72     100     100      83      89   \n17     128      74      53      55     100      84      84      70      54   \n5      116      78      47      48      99      69     100      76      89   \n10     121      89      90      89      87      88      78      93      80   \n\n    T2SUB4  ...  T3SUB1  T3SUB2  T3SUB3  T3SUB4  T3SUB5  T1Total  T2Total  \\\n6       38  ...      76      40      67     100      99      348      312   \n1       66  ...      90      88      76      88      90      302      331   \n14      49  ...      58      45      68      50      58      394      399   \n2       76  ...      66      78      78      89      90      337      336   \n7       40  ...     100      70      66      36      78      398      326   \n9       84  ...      56      56      56      99      67      402      352   \n4       68  ...      80      39      81     100      78      349      365   \n0       78  ...      77      89      45      87      89      386      320   \n12      70  ...      56      67      68      89      78      383      368   \n13      66  ...      57      66      76      88      68      404      386   \n16      56  ...      90      56      90      66      89      366      390   \n8       78  ...      67      84      65      67      79      414      385   \n11      80  ...      45      87      59      90      90      382      410   \n15      38  ...      89     100      78      60      79      384      375   \n19      71  ...      78      73      89      76      78      400      375   \n18      61  ...      94      73      80      78      68      448      330   \n3       79  ...      90      78      60      78      90      363      413   \n17     100  ...      93      89      89      64      90      366      381   \n5       80  ...      87      49      89      90      89      341      438   \n10      67  ...      65      79      58      88      89      443      405   \n\n    T3Total        mean  Rank  \n6       382  347.333333    20  \n1       432  355.000000    19  \n14      279  357.333333    18  \n2       401  358.000000    16  \n7       350  358.000000    16  \n9       334  362.666667    15  \n4       378  364.000000    14  \n0       387  364.333333    13  \n12      358  369.666667    12  \n13      355  381.666667    11  \n16      391  382.333333    10  \n8       362  387.000000     9  \n11      371  387.666667     8  \n15      406  388.333333     7  \n19      394  389.666667     6  \n18      393  390.333333     5  \n3       396  390.666667     3  \n17      425  390.666667     3  \n5       404  394.333333     2  \n10      379  409.000000     1  \n\n[20 rows x 21 columns]\n"
                }
            ],
            "source": "# The code was removed by Watson Studio for sharing."
        },
        {
            "cell_type": "code",
            "execution_count": null,
            "metadata": {},
            "outputs": [],
            "source": ""
        }
    ],
    "metadata": {
        "kernelspec": {
            "display_name": "Python 3.6",
            "language": "python",
            "name": "python3"
        },
        "language_info": {
            "codemirror_mode": {
                "name": "ipython",
                "version": 3
            },
            "file_extension": ".py",
            "mimetype": "text/x-python",
            "name": "python",
            "nbconvert_exporter": "python",
            "pygments_lexer": "ipython3",
            "version": "3.6.9"
        }
    },
    "nbformat": 4,
    "nbformat_minor": 1
}